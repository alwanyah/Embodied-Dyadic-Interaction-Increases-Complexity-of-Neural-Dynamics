{
 "cells": [
  {
   "cell_type": "code",
   "execution_count": 1,
   "metadata": {},
   "outputs": [
    {
     "name": "stdout",
     "output_type": "stream",
     "text": [
      "o [0.82010759 0.86466554]\n",
      "o [1.82010759 1.86466554]\n",
      "1-o [-0.82010759 -0.86466554]\n"
     ]
    },
    {
     "name": "stderr",
     "output_type": "stream",
     "text": [
      "/home/ben_ten/ben/Embodied-Dyadic-Interaction-Increases-Complexity-of-Neural-Dynamics/CTRNN/CTRNN/ctrnn.py:136: RuntimeWarning: invalid value encountered in log\n",
      "  inverse_sig = np.log(o/(1-o))\n"
     ]
    }
   ],
   "source": [
    "from CTRNN.CTRNN.ctrnn import CTRNN\n",
    "#from CTRNN.ctrnn import CTRNN\n",
    "from stochsearch import EvolSearch\n",
    "import numpy as np\n",
    "import matplotlib.pyplot as plt\n",
    "\n",
    "x = CTRNN()\n",
    "\n"
   ]
  },
  {
   "cell_type": "code",
   "execution_count": 4,
   "metadata": {},
   "outputs": [],
   "source": [
    "x = CTRNN()\n"
   ]
  },
  {
   "cell_type": "code",
   "execution_count": null,
   "metadata": {},
   "outputs": [],
   "source": []
  },
  {
   "cell_type": "code",
   "execution_count": 15,
   "metadata": {},
   "outputs": [
    {
     "ename": "TypeError",
     "evalue": "randomize_outputs() takes 3 positional arguments but 4 were given",
     "output_type": "error",
     "traceback": [
      "\u001b[0;31m---------------------------------------------------------------------------\u001b[0m",
      "\u001b[0;31mTypeError\u001b[0m                                 Traceback (most recent call last)",
      "\u001b[1;32m/home/ben_ten/ben/Embodied-Dyadic-Interaction-Increases-Complexity-of-Neural-Dynamics/exploratory.ipynb Cell 2\u001b[0m line \u001b[0;36m2\n\u001b[1;32m     <a href='vscode-notebook-cell://wsl%2Bubuntu/home/ben_ten/ben/Embodied-Dyadic-Interaction-Increases-Complexity-of-Neural-Dynamics/exploratory.ipynb#W1sdnNjb2RlLXJlbW90ZQ%3D%3D?line=25'>26</a>\u001b[0m network_1\u001b[39m.\u001b[39mweights[\u001b[39m1\u001b[39m,\u001b[39m1\u001b[39m] \u001b[39m=\u001b[39m \u001b[39m4.5\u001b[39m\n\u001b[1;32m     <a href='vscode-notebook-cell://wsl%2Bubuntu/home/ben_ten/ben/Embodied-Dyadic-Interaction-Increases-Complexity-of-Neural-Dynamics/exploratory.ipynb#W1sdnNjb2RlLXJlbW90ZQ%3D%3D?line=27'>28</a>\u001b[0m \u001b[39m# initialize network\u001b[39;00m\n\u001b[0;32m---> <a href='vscode-notebook-cell://wsl%2Bubuntu/home/ben_ten/ben/Embodied-Dyadic-Interaction-Increases-Complexity-of-Neural-Dynamics/exploratory.ipynb#W1sdnNjb2RlLXJlbW90ZQ%3D%3D?line=28'>29</a>\u001b[0m network_0\u001b[39m.\u001b[39;49mrandomize_outputs(\u001b[39m0.1\u001b[39;49m,\u001b[39m0.2\u001b[39;49m, \u001b[39m0.3\u001b[39;49m)\n\u001b[1;32m     <a href='vscode-notebook-cell://wsl%2Bubuntu/home/ben_ten/ben/Embodied-Dyadic-Interaction-Increases-Complexity-of-Neural-Dynamics/exploratory.ipynb#W1sdnNjb2RlLXJlbW90ZQ%3D%3D?line=29'>30</a>\u001b[0m network_1\u001b[39m.\u001b[39mrandomize_outputs(\u001b[39m0.1\u001b[39m,\u001b[39m0.2\u001b[39m, \u001b[39m0.3\u001b[39m)\n\u001b[1;32m     <a href='vscode-notebook-cell://wsl%2Bubuntu/home/ben_ten/ben/Embodied-Dyadic-Interaction-Increases-Complexity-of-Neural-Dynamics/exploratory.ipynb#W1sdnNjb2RlLXJlbW90ZQ%3D%3D?line=31'>32</a>\u001b[0m \u001b[39m# simulate network\u001b[39;00m\n",
      "\u001b[0;31mTypeError\u001b[0m: randomize_outputs() takes 3 positional arguments but 4 were given"
     ]
    }
   ],
   "source": [
    "# params\n",
    "run_duration = 250\n",
    "net_size = 3\n",
    "step_size = 0.01\n",
    "\n",
    "# sound_input needs to be taken from webot, updated after every computational or time step \n",
    "sound_input_0 = [0.1]\n",
    "sound_input_1 = [0.1]\n",
    "\n",
    "# set up network\n",
    "network_0 = CTRNN(size=net_size,step_size=step_size)\n",
    "#network_0.taus = np.random.rand(net_size) # [1.,1.]\n",
    "#network_0.biases = np.random.rand(net_size) #[-2.75,-1.75]\n",
    "#network_0.weights[0,0] = 4.5\n",
    "#network_0.weights[0,1] = 1\n",
    "#network_0.weights[1,0] = -1\n",
    "#network_0.weights[1,1] = 4.5\n",
    "\n",
    "# TODO setup second CTRNN\n",
    "network_1 = CTRNN(size=net_size,step_size=step_size)\n",
    "network_1.taus = [1.,1.]\n",
    "network_1.biases = [-2.75,-1.75]\n",
    "network_1.weights[0,0] = 4.5\n",
    "network_1.weights[0,1] = 1\n",
    "network_1.weights[1,0] = -1\n",
    "network_1.weights[1,1] = 4.5\n",
    "\n",
    "# initialize network\n",
    "network_0.randomize_outputs(0.1,0.2, 0.3)\n",
    "network_1.randomize_outputs(0.1,0.2, 0.3)\n",
    "\n",
    "# simulate network\n",
    "outputs_0 = []\n",
    "outputs_1 = []\n",
    "\n",
    "for _ in range(int(run_duration/step_size)):\n",
    "    # TODO read sound input for both CTRNN\n",
    "    network_0.euler_step(sound_input_0 * net_size) # zero external_inputs\n",
    "    network_1.euler_step(sound_input_1 * net_size) # zero external_inputs\n",
    "\n",
    "    outputs_0.append([network_0.outputs[i] for i in range(net_size)])\n",
    "    outputs_1.append([network_1.outputs[i] for i in range(net_size)])\n",
    "\n",
    "    # TODO send output to webots and both robots\n",
    "\n",
    "# reshape to array\n",
    "outputs_0 = np.asarray(outputs_0)\n",
    "outputs_1 = np.asarray(outputs_1)\n",
    "\n",
    "# plot oscillator output\n",
    "plt.plot(np.arange(0,run_duration,step_size),outputs_0[:,0])\n",
    "plt.plot(np.arange(0,run_duration,step_size),outputs_1[:,1])\n",
    "plt.xlabel('Time')\n",
    "plt.ylabel('Neuron outputs')\n",
    "plt.show()"
   ]
  },
  {
   "cell_type": "code",
   "execution_count": 3,
   "metadata": {},
   "outputs": [
    {
     "name": "stdout",
     "output_type": "stream",
     "text": [
      "[0.81047031 0.58190934]\n"
     ]
    }
   ],
   "source": [
    "# access nn output \n",
    "print(network.outputs)\n",
    "#network.outputs = [0.5,0.75,0.4]"
   ]
  },
  {
   "cell_type": "markdown",
   "metadata": {},
   "source": [
    "# Search"
   ]
  },
  {
   "cell_type": "code",
   "execution_count": null,
   "metadata": {},
   "outputs": [],
   "source": [
    "def fitness_function():\n",
    "    "
   ]
  },
  {
   "cell_type": "code",
   "execution_count": null,
   "metadata": {},
   "outputs": [],
   "source": [
    "evol_params = {\n",
    "    'num_processes' : 4, # (optional) number of proccesses for multiprocessing.Pool\n",
    "    'pop_size' : 100,    # population size\n",
    "    'genotype_size': 10, # dimensionality of solution\n",
    "    'fitness_function': fitness_function, # custom function defined to evaluate fitness of a solution\n",
    "    'elitist_fraction': 0.04, # fraction of population retained as is between generations\n",
    "    'mutation_variance': 0.05, # mutation noise added to offspring.\n",
    "    'fitness_args': np.arange(100), # (optional) fitness_function *argv, len(list) should be 1 or pop_size\n",
    "}\n",
    "\n",
    "\n",
    "es = EvolSearch(evol_params)\n",
    "\n",
    "# just iterate\n",
    "num_gens = 100\n",
    "es.execute_search(num_gens)"
   ]
  },
  {
   "cell_type": "code",
   "execution_count": null,
   "metadata": {},
   "outputs": [],
   "source": [
    "# based on condition\n",
    "\n",
    "max_num_gens = 100\n",
    "gen = 0\n",
    "desired_fitness = 0.9\n",
    "while es.get_best_individual_fitness() < desired_fitness and gen < max_num_gens:\n",
    "        print(\"Gen #{} Best Fitness = {}\".format(gen, es.get_best_individual_fitness()))\n",
    "        es.step_generation()\n",
    "        gen += 1"
   ]
  },
  {
   "cell_type": "code",
   "execution_count": null,
   "metadata": {},
   "outputs": [],
   "source": [
    "print('Max fitness of population = ',es.get_best_individual_fitness())\n",
    "print('Best individual in population = ',es.get_best_individual())"
   ]
  }
 ],
 "metadata": {
  "kernelspec": {
   "display_name": "roboenv",
   "language": "python",
   "name": "python3"
  },
  "language_info": {
   "codemirror_mode": {
    "name": "ipython",
    "version": 3
   },
   "file_extension": ".py",
   "mimetype": "text/x-python",
   "name": "python",
   "nbconvert_exporter": "python",
   "pygments_lexer": "ipython3",
   "version": "3.8.10"
  }
 },
 "nbformat": 4,
 "nbformat_minor": 2
}
